{
 "cells": [
  {
   "cell_type": "code",
   "execution_count": 1,
   "metadata": {},
   "outputs": [],
   "source": [
    "import spacy\n",
    "from spacy import displacy\n",
    "import numpy as np\n",
    "from IPython.core.debugger import set_trace\n",
    "import os\n",
    "import pdb\n",
    "\n",
    "save_dir = \"features\"\n",
    "if not os.path.exists(save_dir):\n",
    "    os.mkdir(save_dir)\n",
    "    \n",
    "nlp = spacy.load(\"en_core_web_lg\")"
   ]
  },
  {
   "cell_type": "code",
   "execution_count": 2,
   "metadata": {},
   "outputs": [],
   "source": [
    "all_text = []\n",
    "hp_text = []\n",
    "para = \"\""
   ]
  },
  {
   "cell_type": "code",
   "execution_count": 3,
   "metadata": {},
   "outputs": [
    {
     "name": "stdout",
     "output_type": "stream",
     "text": [
      "['Tara stood stock still waiting for the first tiny gleam from the scout craft to appear in the darkness of the.', 'The gentle constant breeze of recycled air from the vent above blew an annoying hair against her nose but she ignored it.', 'A gasp from the psychic broke her silent vigil and she turned.', 'Results Harmon she suppressed the surge of annoyance that ran through her as she contemplated the gift of getting all the hot news first.', 'face slowly animated joy sweeping in to replace stern concentration.', 'says the planet tiny away contemplated to not blonde slowly broke by Thriving with life large and small forms no buildings of any kind metals and stable atmosphere excellent onto the only head planet pointed blackness now get gentle imposing alpha.', 'He says we should come now immediately before the probe is reported late Harmon that good nothing son of beta get his the gate and here.', 'NOW or open fire on him when we come Tara Of all the no doubt with orders from Mason was questioning her command decisions what I get for not using mercenaries.', 'She returned to her watch regarding her own reflection in the long window.', 'Mahogany black curly hair cut short in the typical military style framed a dark skinned face.', 'It was not an attractive face right now her ebony eyes by hours on the watch full lips with frustration.', 'She had the look of every leader she had ever known.', 'At six foot two she stood a full head taller than even her first officer than golden craft blew prepare color attractive crew.', 'Her expression completed the imposing effect.', 'She picked imaginary flecks off her stark gray jumpsuit and snorted.', 'You look like hell.', 'Tar blow this let fatigue get to you.', 'She used the discretion of the mirrored window to to defy United Earth Command and sever all ties from Earth.', 'She watched the psi bob her head unaware of the rest of the bridge shaking blonde curls as she away with the approaching psi relay on ship.', 'She seemed so self conscious and shallow on the outside but having that incredible gift.', 'There had to be more to her Well if she pan out be terminated.', 'Any crew member that would jeopardize the project was meat.', 'It would be a shame to lose that talent though her first officer was staring at his panel color psychic metals system which for all charges if this discretion meat any insurrection air member.', 'He was what this was all about.', 'She watched his graceful fingers ending in thick black claws tap out calculations on the panel.', 'His pointed ears back and forth catching every sound from the bridge while his long tail swished to the rhythm of his thoughts.', 'Only those of the Insurrection inner team knew he was no common beta furry.', 'His silken fur which would be golden and striped with jet black bands was dyed perfectly to a pure black and his mane trimmed and thinned as to be indistinguishable from the rest of his coat.', 'His eyes had been treated and darkened to a rich purple to disguise the brilliant golden yellow color that would mark him as an Alpha and leader of his.', 'Right now he looked like an overgrown wolf learned touch typing.', 'The scout ship from the hole a brilliant speck emerging from a sphere of velvety blackness.', \"It's hail across the and Tara spun to retake her seat at the helm.\", 'Launch the second probe.', 'Central be crushed to learn that another gateway has yielded little more than a class F planet and a white dwarf system.', 'Level and and let loose a small growl as if ro caution his charges against false hope twenty seven gates so far and none had turned up anything worth time military jumpsuit it waiting those six reflection fatigue.', 'Tara would not let giddy hopes drag them onto a rock that would spell end for project and species.']\n"
     ]
    }
   ],
   "source": [
    "narrative_text = open(\"./stimuli/text/lw1new.txt\",\"r\").readlines()\n",
    "for eachsent in narrative_text[0].split('.'):\n",
    "    all_text.append(eachsent.strip()+'.')\n",
    "    for j in range(len(eachsent.strip().split())):\n",
    "        #if eachsent.strip().split()[j].strip() not in [',','?','!','-','\"',';']:\n",
    "        hp_text.append(eachsent.strip().split()[j].strip())\n",
    "print(all_text)\n",
    "\n",
    "narrative_text = open(\"./stimuli/text/cable_spool_fort_new.txt\",\"r\").readlines()\n",
    "for eachsent in narrative_text[0].split('.'):\n",
    "    all_text.append(eachsent.strip()+'.')\n",
    "    for j in range(len(eachsent.strip().split())):\n",
    "        #if eachsent.strip().split()[j].strip() not in [',','?','!','-','\"',';']:\n",
    "        hp_text.append(eachsent.strip().split()[j].strip())\n",
    "        \n",
    "narrative_text = open(\"./stimuli/text/easy_money_new.txt\",\"r\").readlines()\n",
    "for eachsent in narrative_text[0].split('.'):\n",
    "    all_text.append(eachsent.strip()+'.')\n",
    "    for j in range(len(eachsent.strip().split())):\n",
    "        #if eachsent.strip().split()[j].strip() not in [',','?','!','-','\"',';']:\n",
    "        hp_text.append(eachsent.strip().split()[j].strip())\n",
    "        \n",
    "narrative_text = open(\"./stimuli/text/black_willow_new.txt\",\"r\").readlines()\n",
    "for eachsent in narrative_text[0].split('.'):\n",
    "    all_text.append(eachsent.strip()+'.')\n",
    "    for j in range(len(eachsent.strip().split())):\n",
    "        #if eachsent.strip().split()[j].strip() not in [',','?','!','-','\"',';']:\n",
    "        hp_text.append(eachsent.strip().split()[j].strip())"
   ]
  },
  {
   "cell_type": "code",
   "execution_count": 4,
   "metadata": {},
   "outputs": [],
   "source": [
    "all_vecs = []\n",
    "for i in range(len(hp_text)):\n",
    "    all_vecs.append([])\n",
    "\n",
    "ind = 0\n",
    "rem_len = len(hp_text[ind])\n",
    "for para in all_text[:-1]:\n",
    "    proc = nlp(para)\n",
    "    for word in proc[:-1]:\n",
    "        all_vecs[ind].append(word.vector)\n",
    "        rem_len -= len(word.text)\n",
    "        if rem_len <= 0:\n",
    "            ind += 1\n",
    "            while(ind < len(hp_text) and hp_text[ind] == \"+\"):\n",
    "                ind += 1\n",
    "            if ind < len(hp_text):\n",
    "                rem_len = len(hp_text[ind]) + rem_len"
   ]
  },
  {
   "cell_type": "code",
   "execution_count": 5,
   "metadata": {},
   "outputs": [],
   "source": [
    "finalvec = []\n",
    "for eachword in hp_text:\n",
    "    finalvec.append(nlp(eachword).vector)\n",
    "finalvec= np.array(finalvec)"
   ]
  },
  {
   "cell_type": "raw",
   "metadata": {},
   "source": [
    "for i, j in enumerate(c):\n",
    "    print(i,j)\n",
    "    break\n",
    "    if c[i][0] == \"+\":\n",
    "        c[i][1] = np.zeros(300)\n",
    "    else:\n",
    "        c[i][1] = np.mean(np.array(c[i][1]), axis=0).reshape(-1)\n",
    "    if c[i][1].shape != (300,):\n",
    "        pdb.set_trace()\n",
    "\n",
    "final_vecs = np.array([i[1] for i in c])\n",
    "print(final_vecs.shape)\n",
    "\n",
    "np.save(os.path.join(save_dir, \"spacy_semantic_vecs.npy\"), final_vecs)"
   ]
  },
  {
   "cell_type": "code",
   "execution_count": 6,
   "metadata": {},
   "outputs": [
    {
     "data": {
      "text/plain": [
       "(8561, 300)"
      ]
     },
     "execution_count": 6,
     "metadata": {},
     "output_type": "execute_result"
    }
   ],
   "source": [
    "finalvec.shape"
   ]
  },
  {
   "cell_type": "code",
   "execution_count": 7,
   "metadata": {},
   "outputs": [],
   "source": [
    "#stories = ['lw1','cable','easymoney','balckwillow']\n",
    "story_len = [0,668,1503,2637,3753]\n",
    "glove_vecs = []\n",
    "for i in np.arange(1,5):\n",
    "    #aa = np.load(\"./features/pos_tags_\"+eachstory+\".npy\", allow_pickle=True)\n",
    "    glove_vecs.append(finalvec[story_len[i-1]:story_len[i-1]+story_len[i]])"
   ]
  },
  {
   "cell_type": "code",
   "execution_count": 8,
   "metadata": {},
   "outputs": [],
   "source": [
    "np.save(os.path.join(save_dir, \"spacy_semantic_vecs.npy\"), finalvec)"
   ]
  },
  {
   "cell_type": "code",
   "execution_count": 9,
   "metadata": {},
   "outputs": [
    {
     "name": "stderr",
     "output_type": "stream",
     "text": [
      "/home/subbainria/anaconda3/lib/python3.8/site-packages/numpy/lib/npyio.py:518: VisibleDeprecationWarning: Creating an ndarray from ragged nested sequences (which is a list-or-tuple of lists-or-tuples-or ndarrays with different lengths or shapes) is deprecated. If you meant to do this, you must specify 'dtype=object' when creating the ndarray.\n",
      "  arr = np.asanyarray(arr)\n"
     ]
    }
   ],
   "source": [
    "np.save('glove_vecs_allstories', glove_vecs)"
   ]
  },
  {
   "cell_type": "code",
   "execution_count": null,
   "metadata": {},
   "outputs": [],
   "source": []
  }
 ],
 "metadata": {
  "kernelspec": {
   "display_name": "Python 3",
   "language": "python",
   "name": "python3"
  },
  "language_info": {
   "codemirror_mode": {
    "name": "ipython",
    "version": 3
   },
   "file_extension": ".py",
   "mimetype": "text/x-python",
   "name": "python",
   "nbconvert_exporter": "python",
   "pygments_lexer": "ipython3",
   "version": "3.8.5"
  }
 },
 "nbformat": 4,
 "nbformat_minor": 4
}
