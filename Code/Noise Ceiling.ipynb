{
 "cells": [
  {
   "cell_type": "code",
   "execution_count": 1,
   "metadata": {},
   "outputs": [],
   "source": [
    "import numpy as np"
   ]
  },
  {
   "cell_type": "code",
   "execution_count": 2,
   "metadata": {},
   "outputs": [],
   "source": [
    "# make all possible combinations of size s from the listed subjects\n",
    "def get_all_combinations(subjects, s):\n",
    "    from itertools import combinations \n",
    "    comb = combinations(subjects, s) \n",
    "    return comb"
   ]
  },
  {
   "cell_type": "code",
   "execution_count": 3,
   "metadata": {},
   "outputs": [],
   "source": [
    "# get average correlation of predicting the specified target_subject from each source subject (return mean over source subjects)\n",
    "def get_mean_prediction(target_subject, source_subjects, voxels_dict={}):\n",
    "    # load all predictions from source to target\n",
    "    r2s = []\n",
    "    for source_subject in source_subjects:\n",
    "        loaded = np.load('./predictions_results/noise_ceiling/predict_{}_with_{}_{}pcs.npy'.format(target_subject, source_subject, voxels_dict[source_subject]) ,allow_pickle=True)\n",
    "        r2s.append(np.nan_to_num(loaded))\n",
    "    mean_subsample_r2s = np.mean(r2s,0)\n",
    "    \n",
    "    return mean_subsample_r2s"
   ]
  },
  {
   "cell_type": "code",
   "execution_count": 4,
   "metadata": {},
   "outputs": [],
   "source": [
    "def exponenial_func(x, v0, t0):\n",
    "    return v0*(1-np.exp(-x/t0))\n",
    "\n",
    "def bootstrap_function(x,y):\n",
    "    from scipy.optimize import curve_fit\n",
    "    popt, pcov = curve_fit(exponenial_func, x, y,  maxfev = 6000) #, p0=(1, 1))\n",
    "    return popt[0]\n",
    "\n",
    "def bootstrap(samples1, samples2, n_bootstrap=100):\n",
    "    n_samples = len(samples1)\n",
    "    \n",
    "    bootstraps = []\n",
    "    for b in range(n_bootstrap):\n",
    "        inds_choice = np.random.choice(range(n_samples),n_samples,replace=True)\n",
    "        \n",
    "        metric = bootstrap_function(samples1[inds_choice], samples2[inds_choice])\n",
    "        bootstraps.append(metric)\n",
    "        \n",
    "    return bootstraps"
   ]
  },
  {
   "cell_type": "code",
   "execution_count": null,
   "metadata": {},
   "outputs": [],
   "source": [
    "# subs = ['H','I','J','K','L','M','N','F']\n",
    "# n_voxels = [24983, 25263, 29650, 25003, 24678, 28752, 24397, 27905]\n",
    "subs = np.arange(1,28)\n",
    "\n",
    "n_voxels_dict = {}\n",
    "for s, sub in enumerate(subs):\n",
    "    n_voxels_dict[sub] = 208*81\n",
    "\n",
    "np.random.seed(42)\n",
    "\n",
    "for s,target_subject in enumerate(subs):\n",
    "    source_subjects = [i for i in subs if i != target_subject]\n",
    "    \n",
    "    subsample_corrs = []\n",
    "    subsample_sizes = []\n",
    "    \n",
    "    for subsample_size in range(2, len(subs)+1):\n",
    "        subsamples = get_all_combinations(source_subjects, subsample_size-1) # subtract 1 because we're only doing combs of source subjs\n",
    "\n",
    "        for subsample in list(subsamples):\n",
    "            mean_subsample_corrs = get_mean_prediction(target_subject, list(subsample), n_voxels_dict)\n",
    "            subsample_corrs.append(mean_subsample_corrs)\n",
    "            subsample_sizes.append(subsample_size)\n",
    "            \n",
    "        print('done with subsample size {}'.format(subsample_size))\n",
    "        \n",
    "    ceilings = []\n",
    "    for pc_ind in range(n_voxels_dict[target_subject]):\n",
    "        bootstraps = bootstrap(np.array(subsample_sizes), np.array(subsample_corrs)[:,pc_ind])\n",
    "        ceilings.append(np.median(bootstraps))\n",
    "        \n",
    "    np.save('predictions_results/noise_ceiling/subject_{}_kernel_ridge.npy'.format(target_subject),np.array(ceilings))\n",
    "    \n",
    "    print('done with subject {}'.format(target_subject))"
   ]
  },
  {
   "cell_type": "code",
   "execution_count": null,
   "metadata": {},
   "outputs": [],
   "source": []
  }
 ],
 "metadata": {
  "kernelspec": {
   "display_name": "Python 3",
   "language": "python",
   "name": "python3"
  },
  "language_info": {
   "codemirror_mode": {
    "name": "ipython",
    "version": 3
   },
   "file_extension": ".py",
   "mimetype": "text/x-python",
   "name": "python",
   "nbconvert_exporter": "python",
   "pygments_lexer": "ipython3",
   "version": "3.8.5"
  }
 },
 "nbformat": 4,
 "nbformat_minor": 4
}
